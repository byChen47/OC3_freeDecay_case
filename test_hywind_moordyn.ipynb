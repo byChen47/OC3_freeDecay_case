{
 "cells": [
  {
   "cell_type": "code",
   "execution_count": null,
   "id": "b4eab9d5",
   "metadata": {
    "scrolled": true
   },
   "outputs": [],
   "source": [
    "import moordyn\n",
    "\n",
    "system = moordyn.Create('lines_v2.txt')\n",
    "ndof = moordyn.NCoupledDOF(system)\n",
    "nlines = moordyn.GetNumberLines(system)\n",
    "print(\"ndof, nlines: \", ndof, nlines)\n",
    "\n",
    "x = [0]*ndof\n",
    "v = [0]*ndof\n",
    "\n",
    "x[:3] = [10.86,0.00,-77.24]\n",
    "\n",
    "moordyn.Init(system, x, v)\n"
   ]
  },
  {
   "cell_type": "code",
   "execution_count": null,
   "id": "e95c3d3a",
   "metadata": {},
   "outputs": [],
   "source": [
    "\n",
    "for i in range(1,7):\n",
    "    conn = moordyn.GetPoint(system, i)\n",
    "    print('Point', i, list(moordyn.GetPointPos(conn)))\n"
   ]
  },
  {
   "cell_type": "code",
   "execution_count": null,
   "id": "607af55e",
   "metadata": {},
   "outputs": [],
   "source": [
    "moordyn.SaveVTK(system, \"stationary.vtm\")"
   ]
  },
  {
   "cell_type": "code",
   "execution_count": null,
   "id": "862aaad1",
   "metadata": {},
   "outputs": [],
   "source": [
    "v[0] = 0.01\n",
    "\n",
    "forces = moordyn.Step(system, x, v, 0.0, 0.05)\n",
    "\n",
    "print('mooring forces after one step:\\n', forces)\n"
   ]
  },
  {
   "cell_type": "code",
   "execution_count": null,
   "id": "5d0c613b",
   "metadata": {},
   "outputs": [],
   "source": [
    "\n",
    "moordyn.Close(system)"
   ]
  },
  {
   "cell_type": "code",
   "execution_count": null,
   "id": "54dba9c5",
   "metadata": {},
   "outputs": [],
   "source": []
  }
 ],
 "metadata": {
  "kernelspec": {
   "display_name": "Python 3 (ipykernel)",
   "language": "python",
   "name": "python3"
  },
  "language_info": {
   "codemirror_mode": {
    "name": "ipython",
    "version": 3
   },
   "file_extension": ".py",
   "mimetype": "text/x-python",
   "name": "python",
   "nbconvert_exporter": "python",
   "pygments_lexer": "ipython3",
   "version": "3.11.3"
  }
 },
 "nbformat": 4,
 "nbformat_minor": 5
}
